{
 "cells": [
  {
   "cell_type": "markdown",
   "metadata": {},
   "source": [
    "## 1. Complete the following code to find the area of an equilateral triangle. Output should be as displayed"
   ]
  },
  {
   "cell_type": "code",
   "execution_count": 115,
   "metadata": {},
   "outputs": [
    {
     "name": "stdout",
     "output_type": "stream",
     "text": [
      "Enter the side of the equilateral triangle: 5\n",
      "10.825\n"
     ]
    }
   ],
   "source": [
    "import math\n",
    "side = float(input(\"Enter the side of the equilateral triangle: \"))\n",
    "area = ((math.sqrt(3))/4)*pow(side,2)\n",
    "print(format(area,\".3f\"))\n"
   ]
  },
  {
   "cell_type": "markdown",
   "metadata": {},
   "source": [
    "## 2. Write a program to count the number of each characters in a string"
   ]
  },
  {
   "cell_type": "code",
   "execution_count": 116,
   "metadata": {},
   "outputs": [
    {
     "name": "stdout",
     "output_type": "stream",
     "text": [
      "enter a string value:hello world\n",
      "{'h': 1, 'e': 1, 'l': 3, 'o': 2, ' ': 1, 'w': 1, 'r': 1, 'd': 1}\n"
     ]
    }
   ],
   "source": [
    "# to count no of character in string\n",
    "str1=input('enter a string value:')\n",
    "d1=dict()\n",
    "for c in str1:\n",
    "    if c  in d1:\n",
    "         d1[c]+=1;\n",
    "    else:\n",
    "            d1[c]=1\n",
    "print(d1)"
   ]
  },
  {
   "cell_type": "markdown",
   "metadata": {},
   "source": [
    "## 3. Write a program to find the area and perimeter of a rectangle using functions"
   ]
  },
  {
   "cell_type": "code",
   "execution_count": 117,
   "metadata": {},
   "outputs": [
    {
     "name": "stdout",
     "output_type": "stream",
     "text": [
      "enter the length5\n",
      "enter the breath4\n",
      "Area of rectangle is  20.0\n",
      "perimeter of rectangle is 18.0\n"
     ]
    }
   ],
   "source": [
    "# to find area and perimeter of a rectangle\n",
    "def area(a,b):\n",
    "  return(a*b)\n",
    "def perimeter(a,b):\n",
    "   return(2*(a+b))\n",
    "l=float(input(\"enter the length\"))\n",
    "b=float(input(\"enter the breath\"))\n",
    "print(\"Area of rectangle is \",area(l,b))\n",
    "print(\"perimeter of rectangle is\" ,perimeter(l,b))\n"
   ]
  },
  {
   "cell_type": "markdown",
   "metadata": {},
   "source": [
    "## 4. Write a program to print the fibonacci series till a specified number"
   ]
  },
  {
   "cell_type": "code",
   "execution_count": 119,
   "metadata": {},
   "outputs": [
    {
     "name": "stdout",
     "output_type": "stream",
     "text": [
      "enter the how many number you want in the series:8\n",
      "0\n",
      "1\n",
      "1\n",
      "2\n",
      "3\n",
      "5\n",
      "8\n",
      "13\n"
     ]
    }
   ],
   "source": [
    "# to print fibonacci series\n",
    "n=int(input(\"enter the how many number you want in the series:\"))\n",
    "first=0\n",
    "second=1\n",
    "for i in range(n):\n",
    " print(first)\n",
    " temp= first\n",
    " first=second\n",
    " second=temp+second\n",
    "    \n",
    "\n"
   ]
  },
  {
   "cell_type": "markdown",
   "metadata": {},
   "source": [
    "## 5. Complete the following code to find the minimum of 3 number using conditional statements. Output should be as displayed"
   ]
  },
  {
   "cell_type": "code",
   "execution_count": 122,
   "metadata": {},
   "outputs": [
    {
     "name": "stdout",
     "output_type": "stream",
     "text": [
      "Enter three numbers followed by  : 8 5 2\n",
      "First number : 8\n",
      "Second number : 5\n",
      "Third number : 2\n",
      "2  is smallest\n"
     ]
    }
   ],
   "source": [
    "a,b,c = input(\"Enter three numbers followed by  : \").split()\n",
    "\n",
    "print(\"First number :\",a)\n",
    "print(\"Second number :\",b)\n",
    "print(\"Third number :\",c)\n",
    "smallest=0;\n",
    "if a<b and a<c:\n",
    "    print(a,\" is smallest\")\n",
    "elif b<c:\n",
    "    print(b,\" is smallest\")\n",
    "else:\n",
    "     print(c,\" is smallest\")\n",
    "if a==b and b==c:\n",
    "    print(\"Entered numbers are equal!!!\")"
   ]
  },
  {
   "cell_type": "markdown",
   "metadata": {},
   "source": [
    "## 6. Write a program to print star pyramind. The number of rows should be taken as input from the user"
   ]
  },
  {
   "cell_type": "code",
   "execution_count": 123,
   "metadata": {},
   "outputs": [
    {
     "name": "stdout",
     "output_type": "stream",
     "text": [
      "enter the number of rows:5\n",
      "        * \n",
      "      * * * \n",
      "    * * * * * \n",
      "  * * * * * * * \n",
      "* * * * * * * * * \n"
     ]
    }
   ],
   "source": [
    "# to print star pyramind\n",
    "\n",
    "n =int(input(\"enter the number of rows:\"))\n",
    "for i in range(0,n):\n",
    "    for j in range(0,n-i-1):\n",
    "     print(\" \",end=\" \")\n",
    "    for j in range(2*i+1):\n",
    "     print(\"*\",end=\" \")\n",
    "    print()"
   ]
  },
  {
   "cell_type": "markdown",
   "metadata": {},
   "source": [
    "## 7. Complete the following code to convert hour into seconds. Output should be as displayed"
   ]
  },
  {
   "cell_type": "code",
   "execution_count": 124,
   "metadata": {},
   "outputs": [
    {
     "name": "stdout",
     "output_type": "stream",
     "text": [
      "Enter time in Hours:24\n",
      "24  Hour is equal to 86400  Seconds\n"
     ]
    }
   ],
   "source": [
    "def to_seconds(time_in_hours):\n",
    "     return (time_in_hours*60*60)\n",
    "time_in_hours = int(input(\"Enter time in Hours:\" ))\n",
    "print(time_in_hours ,\" Hour is equal to\" ,to_seconds(time_in_hours) ,\" Seconds\")"
   ]
  },
  {
   "cell_type": "markdown",
   "metadata": {},
   "source": [
    "## 8. Write a program to print multiplication table as below"
   ]
  },
  {
   "cell_type": "code",
   "execution_count": 125,
   "metadata": {},
   "outputs": [
    {
     "name": "stdout",
     "output_type": "stream",
     "text": [
      "Enter a number to find the multiplication table:67\n",
      "67 X 1 = 67\n",
      "67 X 2 = 134\n",
      "67 X 3 = 201\n",
      "67 X 4 = 268\n",
      "67 X 5 = 335\n",
      "67 X 6 = 402\n",
      "67 X 7 = 469\n",
      "67 X 8 = 536\n",
      "67 X 9 = 603\n",
      "67 X 10 = 670\n"
     ]
    }
   ],
   "source": [
    "# to print multiplication table\n",
    "num=int(input(\"Enter a number to find the multiplication table:\"))\n",
    "for i in range(1,11):\n",
    " print(num ,'X', i, '=', num*i)\n",
    "   "
   ]
  },
  {
   "cell_type": "markdown",
   "metadata": {},
   "source": [
    "## 9. Write a program to take your 5 favorite food as list and print each as 'I like Biriyani'"
   ]
  },
  {
   "cell_type": "code",
   "execution_count": 126,
   "metadata": {},
   "outputs": [
    {
     "name": "stdout",
     "output_type": "stream",
     "text": [
      "I like  Biriyani\n",
      "I like  Masala Dosa\n",
      "I like  Ice cream\n",
      "I like  Coffee\n",
      "I like  Cake\n"
     ]
    }
   ],
   "source": [
    "# favourite food\n",
    "food=[\"Biriyani\",\"Masala Dosa\",\"Ice cream\",\"Coffee\",\"Cake\"]\n",
    "for i in food:\n",
    " print(\"I like \",i)"
   ]
  },
  {
   "cell_type": "code",
   "execution_count": null,
   "metadata": {},
   "outputs": [],
   "source": []
  },
  {
   "cell_type": "code",
   "execution_count": null,
   "metadata": {},
   "outputs": [],
   "source": []
  }
 ],
 "metadata": {
  "kernelspec": {
   "display_name": "Python 3 (ipykernel)",
   "language": "python",
   "name": "python3"
  },
  "language_info": {
   "codemirror_mode": {
    "name": "ipython",
    "version": 3
   },
   "file_extension": ".py",
   "mimetype": "text/x-python",
   "name": "python",
   "nbconvert_exporter": "python",
   "pygments_lexer": "ipython3",
   "version": "3.9.7"
  }
 },
 "nbformat": 4,
 "nbformat_minor": 4
}
